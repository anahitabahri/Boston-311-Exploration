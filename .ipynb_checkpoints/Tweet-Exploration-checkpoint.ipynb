{
 "cells": [
  {
   "cell_type": "code",
   "execution_count": 1,
   "metadata": {
    "collapsed": false
   },
   "outputs": [
    {
     "name": "stderr",
     "output_type": "stream",
     "text": [
      "/Applications/anaconda/lib/python2.7/site-packages/IPython/html.py:14: ShimWarning: The `IPython.html` package has been deprecated. You should import from `notebook` instead. `IPython.html.widgets` has moved to `ipywidgets`.\n",
      "  \"`IPython.html.widgets` has moved to `ipywidgets`.\", ShimWarning)\n",
      "/Applications/anaconda/lib/python2.7/site-packages/sklearn/cross_validation.py:44: DeprecationWarning: This module was deprecated in version 0.18 in favor of the model_selection module into which all the refactored classes and functions are moved. Also note that the interface of the new CV iterators are different from that of this module. This module will be removed in 0.20.\n",
      "  \"This module will be removed in 0.20.\", DeprecationWarning)\n"
     ]
    }
   ],
   "source": [
    "%matplotlib inline\n",
    "\n",
    "import numpy as np\n",
    "import pandas as pd\n",
    "import matplotlib.pyplot as plt\n",
    "import seaborn as sns\n",
    "sns.set_style(\"darkgrid\")\n",
    "import time\n",
    "import glob\n",
    "import datetime\n",
    "import statsmodels.formula.api as smf\n",
    "import statsmodels.api as sm\n",
    "\n",
    "from sklearn.feature_extraction.text import CountVectorizer, TfidfVectorizer\n",
    "from sklearn.ensemble import RandomForestClassifier\n",
    "from sklearn.cross_validation import cross_val_score"
   ]
  },
  {
   "cell_type": "code",
   "execution_count": 2,
   "metadata": {
    "collapsed": true
   },
   "outputs": [],
   "source": [
    "data = pd.read_csv('../Tweets_sent_from_any_user_tagging_the__NotifyBoston_account_in_the_tweet_from_March_2014_-_March_2015.csv')"
   ]
  },
  {
   "cell_type": "code",
   "execution_count": 3,
   "metadata": {
    "collapsed": true
   },
   "outputs": [],
   "source": [
    "from wordcloud import WordCloud, STOPWORDS\n",
    "from PIL import Image\n",
    "from palettable.colorbrewer.qualitative import Dark2_8\n",
    "import random"
   ]
  },
  {
   "cell_type": "code",
   "execution_count": 4,
   "metadata": {
    "collapsed": false
   },
   "outputs": [
    {
     "data": {
      "text/html": [
       "<div>\n",
       "<table border=\"1\" class=\"dataframe\">\n",
       "  <thead>\n",
       "    <tr style=\"text-align: right;\">\n",
       "      <th></th>\n",
       "      <th>Account Mentioned</th>\n",
       "      <th>User Name</th>\n",
       "      <th>Name</th>\n",
       "      <th>Update</th>\n",
       "      <th>Link</th>\n",
       "      <th>Location</th>\n",
       "      <th>Time</th>\n",
       "      <th>City</th>\n",
       "      <th>State/region</th>\n",
       "      <th>Country</th>\n",
       "      <th>Metro</th>\n",
       "      <th>Latitude</th>\n",
       "      <th>Longitude</th>\n",
       "    </tr>\n",
       "  </thead>\n",
       "  <tbody>\n",
       "    <tr>\n",
       "      <th>0</th>\n",
       "      <td>@notifyboston</td>\n",
       "      <td>NotifyBoston</td>\n",
       "      <td>City of Boston</td>\n",
       "      <td>Thanks! RT @WMcAuliffe13: Hydrants have sussec...</td>\n",
       "      <td>http://twitter.com/NotifyBoston/statuses/56015...</td>\n",
       "      <td>Boston, MA</td>\n",
       "      <td>01/27/2015 11:04:00 AM</td>\n",
       "      <td>Boston</td>\n",
       "      <td>MA</td>\n",
       "      <td>UNITED STATES</td>\n",
       "      <td>Boston-Cambridge-Quincy MA-NH</td>\n",
       "      <td>42.3733</td>\n",
       "      <td>-71.0155</td>\n",
       "    </tr>\n",
       "    <tr>\n",
       "      <th>1</th>\n",
       "      <td>@notifyboston</td>\n",
       "      <td>NotifyBoston</td>\n",
       "      <td>City of Boston</td>\n",
       "      <td>Looking good! Thank you. RT @courtwilliams92: ...</td>\n",
       "      <td>http://twitter.com/NotifyBoston/statuses/56015...</td>\n",
       "      <td>Boston, MA</td>\n",
       "      <td>01/27/2015 11:19:00 AM</td>\n",
       "      <td>Boston</td>\n",
       "      <td>MA</td>\n",
       "      <td>UNITED STATES</td>\n",
       "      <td>Boston-Cambridge-Quincy MA-NH</td>\n",
       "      <td>42.3733</td>\n",
       "      <td>-71.0155</td>\n",
       "    </tr>\n",
       "    <tr>\n",
       "      <th>2</th>\n",
       "      <td>@notifyboston</td>\n",
       "      <td>Osmanbiyik</td>\n",
       "      <td>Osman biyik</td>\n",
       "      <td>I'm at City of Boston - @notifyboston w/ @dogu...</td>\n",
       "      <td>http://twitter.com/Osmanbiyik/statuses/4396788...</td>\n",
       "      <td>NaN</td>\n",
       "      <td>03/01/2014 12:29:00 AM</td>\n",
       "      <td>Boston</td>\n",
       "      <td>MA</td>\n",
       "      <td>UNITED STATES</td>\n",
       "      <td>Boston-Cambridge-Quincy MA-NH</td>\n",
       "      <td>42.3733</td>\n",
       "      <td>-71.0155</td>\n",
       "    </tr>\n",
       "    <tr>\n",
       "      <th>3</th>\n",
       "      <td>@notifyboston</td>\n",
       "      <td>JuliaLamar_</td>\n",
       "      <td>Julia Lamar</td>\n",
       "      <td>My view of #Boston last night from dinner at t...</td>\n",
       "      <td>http://twitter.com/JuliaLamar_/statuses/439762...</td>\n",
       "      <td>Pittsburgh PA - Providence RI</td>\n",
       "      <td>03/01/2014 06:01:00 AM</td>\n",
       "      <td>NaN</td>\n",
       "      <td>NaN</td>\n",
       "      <td>NaN</td>\n",
       "      <td>NaN</td>\n",
       "      <td>NaN</td>\n",
       "      <td>NaN</td>\n",
       "    </tr>\n",
       "    <tr>\n",
       "      <th>4</th>\n",
       "      <td>@notifyboston</td>\n",
       "      <td>designmuseumbos</td>\n",
       "      <td>Design Museum Boston</td>\n",
       "      <td>Do you want to see your poster around the City...</td>\n",
       "      <td>http://twitter.com/designmuseumbos/statuses/43...</td>\n",
       "      <td>Boston, MA</td>\n",
       "      <td>03/01/2014 08:05:00 AM</td>\n",
       "      <td>Boston</td>\n",
       "      <td>MA</td>\n",
       "      <td>UNITED STATES</td>\n",
       "      <td>Boston-Cambridge-Quincy MA-NH</td>\n",
       "      <td>42.3733</td>\n",
       "      <td>-71.0155</td>\n",
       "    </tr>\n",
       "  </tbody>\n",
       "</table>\n",
       "</div>"
      ],
      "text/plain": [
       "  Account Mentioned        User Name                  Name  \\\n",
       "0     @notifyboston     NotifyBoston        City of Boston   \n",
       "1     @notifyboston     NotifyBoston        City of Boston   \n",
       "2     @notifyboston       Osmanbiyik           Osman biyik   \n",
       "3     @notifyboston      JuliaLamar_           Julia Lamar   \n",
       "4     @notifyboston  designmuseumbos  Design Museum Boston   \n",
       "\n",
       "                                              Update  \\\n",
       "0  Thanks! RT @WMcAuliffe13: Hydrants have sussec...   \n",
       "1  Looking good! Thank you. RT @courtwilliams92: ...   \n",
       "2  I'm at City of Boston - @notifyboston w/ @dogu...   \n",
       "3  My view of #Boston last night from dinner at t...   \n",
       "4  Do you want to see your poster around the City...   \n",
       "\n",
       "                                                Link  \\\n",
       "0  http://twitter.com/NotifyBoston/statuses/56015...   \n",
       "1  http://twitter.com/NotifyBoston/statuses/56015...   \n",
       "2  http://twitter.com/Osmanbiyik/statuses/4396788...   \n",
       "3  http://twitter.com/JuliaLamar_/statuses/439762...   \n",
       "4  http://twitter.com/designmuseumbos/statuses/43...   \n",
       "\n",
       "                        Location                    Time    City State/region  \\\n",
       "0                     Boston, MA  01/27/2015 11:04:00 AM  Boston           MA   \n",
       "1                     Boston, MA  01/27/2015 11:19:00 AM  Boston           MA   \n",
       "2                            NaN  03/01/2014 12:29:00 AM  Boston           MA   \n",
       "3  Pittsburgh PA - Providence RI  03/01/2014 06:01:00 AM     NaN          NaN   \n",
       "4                     Boston, MA  03/01/2014 08:05:00 AM  Boston           MA   \n",
       "\n",
       "         Country                          Metro  Latitude  Longitude  \n",
       "0  UNITED STATES  Boston-Cambridge-Quincy MA-NH   42.3733   -71.0155  \n",
       "1  UNITED STATES  Boston-Cambridge-Quincy MA-NH   42.3733   -71.0155  \n",
       "2  UNITED STATES  Boston-Cambridge-Quincy MA-NH   42.3733   -71.0155  \n",
       "3            NaN                            NaN       NaN        NaN  \n",
       "4  UNITED STATES  Boston-Cambridge-Quincy MA-NH   42.3733   -71.0155  "
      ]
     },
     "execution_count": 4,
     "metadata": {},
     "output_type": "execute_result"
    }
   ],
   "source": [
    "data.head()"
   ]
  },
  {
   "cell_type": "code",
   "execution_count": null,
   "metadata": {
    "collapsed": true
   },
   "outputs": [],
   "source": []
  }
 ],
 "metadata": {
  "kernelspec": {
   "display_name": "Python 2",
   "language": "python",
   "name": "python2"
  },
  "language_info": {
   "codemirror_mode": {
    "name": "ipython",
    "version": 2
   },
   "file_extension": ".py",
   "mimetype": "text/x-python",
   "name": "python",
   "nbconvert_exporter": "python",
   "pygments_lexer": "ipython2",
   "version": "2.7.12"
  }
 },
 "nbformat": 4,
 "nbformat_minor": 1
}
