{
 "cells": [
  {
   "cell_type": "code",
   "execution_count": 1,
   "metadata": {
    "collapsed": false
   },
   "outputs": [
    {
     "name": "stderr",
     "output_type": "stream",
     "text": [
      "/Applications/anaconda/lib/python2.7/site-packages/IPython/html.py:14: ShimWarning: The `IPython.html` package has been deprecated. You should import from `notebook` instead. `IPython.html.widgets` has moved to `ipywidgets`.\n",
      "  \"`IPython.html.widgets` has moved to `ipywidgets`.\", ShimWarning)\n",
      "/Applications/anaconda/lib/python2.7/site-packages/sklearn/cross_validation.py:44: DeprecationWarning: This module was deprecated in version 0.18 in favor of the model_selection module into which all the refactored classes and functions are moved. Also note that the interface of the new CV iterators are different from that of this module. This module will be removed in 0.20.\n",
      "  \"This module will be removed in 0.20.\", DeprecationWarning)\n"
     ]
    }
   ],
   "source": [
    "%matplotlib inline\n",
    "\n",
    "import numpy as np\n",
    "import pandas as pd\n",
    "import matplotlib.pyplot as plt\n",
    "import seaborn as sns\n",
    "sns.set_style(\"darkgrid\")\n",
    "import time\n",
    "import glob\n",
    "import datetime\n",
    "import statsmodels.formula.api as smf\n",
    "import statsmodels.api as sm\n",
    "\n",
    "from sklearn.feature_extraction.text import CountVectorizer, TfidfVectorizer\n",
    "from sklearn.ensemble import RandomForestClassifier\n",
    "from sklearn.cross_validation import cross_val_score"
   ]
  },
  {
   "cell_type": "code",
   "execution_count": 2,
   "metadata": {
    "collapsed": true
   },
   "outputs": [],
   "source": [
    "data = pd.read_csv('../Tweets_sent_from_any_user_tagging_the__NotifyBoston_account_in_the_tweet_from_March_2014_-_March_2015.csv')"
   ]
  },
  {
   "cell_type": "code",
   "execution_count": 3,
   "metadata": {
    "collapsed": false
   },
   "outputs": [
    {
     "data": {
      "text/html": [
       "<div>\n",
       "<table border=\"1\" class=\"dataframe\">\n",
       "  <thead>\n",
       "    <tr style=\"text-align: right;\">\n",
       "      <th></th>\n",
       "      <th>Account Mentioned</th>\n",
       "      <th>User Name</th>\n",
       "      <th>Name</th>\n",
       "      <th>Update</th>\n",
       "      <th>Link</th>\n",
       "      <th>Location</th>\n",
       "      <th>Time</th>\n",
       "      <th>City</th>\n",
       "      <th>State/region</th>\n",
       "      <th>Country</th>\n",
       "      <th>Metro</th>\n",
       "      <th>Latitude</th>\n",
       "      <th>Longitude</th>\n",
       "    </tr>\n",
       "  </thead>\n",
       "  <tbody>\n",
       "    <tr>\n",
       "      <th>0</th>\n",
       "      <td>@notifyboston</td>\n",
       "      <td>NotifyBoston</td>\n",
       "      <td>City of Boston</td>\n",
       "      <td>Thanks! RT @WMcAuliffe13: Hydrants have sussec...</td>\n",
       "      <td>http://twitter.com/NotifyBoston/statuses/56015...</td>\n",
       "      <td>Boston, MA</td>\n",
       "      <td>01/27/2015 11:04:00 AM</td>\n",
       "      <td>Boston</td>\n",
       "      <td>MA</td>\n",
       "      <td>UNITED STATES</td>\n",
       "      <td>Boston-Cambridge-Quincy MA-NH</td>\n",
       "      <td>42.3733</td>\n",
       "      <td>-71.0155</td>\n",
       "    </tr>\n",
       "    <tr>\n",
       "      <th>1</th>\n",
       "      <td>@notifyboston</td>\n",
       "      <td>NotifyBoston</td>\n",
       "      <td>City of Boston</td>\n",
       "      <td>Looking good! Thank you. RT @courtwilliams92: ...</td>\n",
       "      <td>http://twitter.com/NotifyBoston/statuses/56015...</td>\n",
       "      <td>Boston, MA</td>\n",
       "      <td>01/27/2015 11:19:00 AM</td>\n",
       "      <td>Boston</td>\n",
       "      <td>MA</td>\n",
       "      <td>UNITED STATES</td>\n",
       "      <td>Boston-Cambridge-Quincy MA-NH</td>\n",
       "      <td>42.3733</td>\n",
       "      <td>-71.0155</td>\n",
       "    </tr>\n",
       "    <tr>\n",
       "      <th>2</th>\n",
       "      <td>@notifyboston</td>\n",
       "      <td>Osmanbiyik</td>\n",
       "      <td>Osman biyik</td>\n",
       "      <td>I'm at City of Boston - @notifyboston w/ @dogu...</td>\n",
       "      <td>http://twitter.com/Osmanbiyik/statuses/4396788...</td>\n",
       "      <td>NaN</td>\n",
       "      <td>03/01/2014 12:29:00 AM</td>\n",
       "      <td>Boston</td>\n",
       "      <td>MA</td>\n",
       "      <td>UNITED STATES</td>\n",
       "      <td>Boston-Cambridge-Quincy MA-NH</td>\n",
       "      <td>42.3733</td>\n",
       "      <td>-71.0155</td>\n",
       "    </tr>\n",
       "    <tr>\n",
       "      <th>3</th>\n",
       "      <td>@notifyboston</td>\n",
       "      <td>JuliaLamar_</td>\n",
       "      <td>Julia Lamar</td>\n",
       "      <td>My view of #Boston last night from dinner at t...</td>\n",
       "      <td>http://twitter.com/JuliaLamar_/statuses/439762...</td>\n",
       "      <td>Pittsburgh PA - Providence RI</td>\n",
       "      <td>03/01/2014 06:01:00 AM</td>\n",
       "      <td>NaN</td>\n",
       "      <td>NaN</td>\n",
       "      <td>NaN</td>\n",
       "      <td>NaN</td>\n",
       "      <td>NaN</td>\n",
       "      <td>NaN</td>\n",
       "    </tr>\n",
       "    <tr>\n",
       "      <th>4</th>\n",
       "      <td>@notifyboston</td>\n",
       "      <td>designmuseumbos</td>\n",
       "      <td>Design Museum Boston</td>\n",
       "      <td>Do you want to see your poster around the City...</td>\n",
       "      <td>http://twitter.com/designmuseumbos/statuses/43...</td>\n",
       "      <td>Boston, MA</td>\n",
       "      <td>03/01/2014 08:05:00 AM</td>\n",
       "      <td>Boston</td>\n",
       "      <td>MA</td>\n",
       "      <td>UNITED STATES</td>\n",
       "      <td>Boston-Cambridge-Quincy MA-NH</td>\n",
       "      <td>42.3733</td>\n",
       "      <td>-71.0155</td>\n",
       "    </tr>\n",
       "  </tbody>\n",
       "</table>\n",
       "</div>"
      ],
      "text/plain": [
       "  Account Mentioned        User Name                  Name  \\\n",
       "0     @notifyboston     NotifyBoston        City of Boston   \n",
       "1     @notifyboston     NotifyBoston        City of Boston   \n",
       "2     @notifyboston       Osmanbiyik           Osman biyik   \n",
       "3     @notifyboston      JuliaLamar_           Julia Lamar   \n",
       "4     @notifyboston  designmuseumbos  Design Museum Boston   \n",
       "\n",
       "                                              Update  \\\n",
       "0  Thanks! RT @WMcAuliffe13: Hydrants have sussec...   \n",
       "1  Looking good! Thank you. RT @courtwilliams92: ...   \n",
       "2  I'm at City of Boston - @notifyboston w/ @dogu...   \n",
       "3  My view of #Boston last night from dinner at t...   \n",
       "4  Do you want to see your poster around the City...   \n",
       "\n",
       "                                                Link  \\\n",
       "0  http://twitter.com/NotifyBoston/statuses/56015...   \n",
       "1  http://twitter.com/NotifyBoston/statuses/56015...   \n",
       "2  http://twitter.com/Osmanbiyik/statuses/4396788...   \n",
       "3  http://twitter.com/JuliaLamar_/statuses/439762...   \n",
       "4  http://twitter.com/designmuseumbos/statuses/43...   \n",
       "\n",
       "                        Location                    Time    City State/region  \\\n",
       "0                     Boston, MA  01/27/2015 11:04:00 AM  Boston           MA   \n",
       "1                     Boston, MA  01/27/2015 11:19:00 AM  Boston           MA   \n",
       "2                            NaN  03/01/2014 12:29:00 AM  Boston           MA   \n",
       "3  Pittsburgh PA - Providence RI  03/01/2014 06:01:00 AM     NaN          NaN   \n",
       "4                     Boston, MA  03/01/2014 08:05:00 AM  Boston           MA   \n",
       "\n",
       "         Country                          Metro  Latitude  Longitude  \n",
       "0  UNITED STATES  Boston-Cambridge-Quincy MA-NH   42.3733   -71.0155  \n",
       "1  UNITED STATES  Boston-Cambridge-Quincy MA-NH   42.3733   -71.0155  \n",
       "2  UNITED STATES  Boston-Cambridge-Quincy MA-NH   42.3733   -71.0155  \n",
       "3            NaN                            NaN       NaN        NaN  \n",
       "4  UNITED STATES  Boston-Cambridge-Quincy MA-NH   42.3733   -71.0155  "
      ]
     },
     "execution_count": 3,
     "metadata": {},
     "output_type": "execute_result"
    }
   ],
   "source": [
    "data.head()"
   ]
  },
  {
   "cell_type": "code",
   "execution_count": 4,
   "metadata": {
    "collapsed": false
   },
   "outputs": [],
   "source": [
    "data['year'] = data['Time'].str[6:10].astype(str)\n",
    "data['month'] = data['Time'].str[:2].astype(str)"
   ]
  },
  {
   "cell_type": "code",
   "execution_count": 7,
   "metadata": {
    "collapsed": false
   },
   "outputs": [],
   "source": [
    "year_2015 = data[(data.year == '2015')]"
   ]
  },
  {
   "cell_type": "code",
   "execution_count": 8,
   "metadata": {
    "collapsed": false
   },
   "outputs": [
    {
     "data": {
      "text/html": [
       "<div>\n",
       "<table border=\"1\" class=\"dataframe\">\n",
       "  <thead>\n",
       "    <tr style=\"text-align: right;\">\n",
       "      <th></th>\n",
       "      <th>Account Mentioned</th>\n",
       "      <th>User Name</th>\n",
       "      <th>Name</th>\n",
       "      <th>Update</th>\n",
       "      <th>Link</th>\n",
       "      <th>Location</th>\n",
       "      <th>Time</th>\n",
       "      <th>City</th>\n",
       "      <th>State/region</th>\n",
       "      <th>Country</th>\n",
       "      <th>Metro</th>\n",
       "      <th>Latitude</th>\n",
       "      <th>Longitude</th>\n",
       "      <th>year</th>\n",
       "      <th>month</th>\n",
       "    </tr>\n",
       "  </thead>\n",
       "  <tbody>\n",
       "    <tr>\n",
       "      <th>0</th>\n",
       "      <td>@notifyboston</td>\n",
       "      <td>NotifyBoston</td>\n",
       "      <td>City of Boston</td>\n",
       "      <td>Thanks! RT @WMcAuliffe13: Hydrants have sussec...</td>\n",
       "      <td>http://twitter.com/NotifyBoston/statuses/56015...</td>\n",
       "      <td>Boston, MA</td>\n",
       "      <td>01/27/2015 11:04:00 AM</td>\n",
       "      <td>Boston</td>\n",
       "      <td>MA</td>\n",
       "      <td>UNITED STATES</td>\n",
       "      <td>Boston-Cambridge-Quincy MA-NH</td>\n",
       "      <td>42.3733</td>\n",
       "      <td>-71.0155</td>\n",
       "      <td>2015</td>\n",
       "      <td>01</td>\n",
       "    </tr>\n",
       "    <tr>\n",
       "      <th>1</th>\n",
       "      <td>@notifyboston</td>\n",
       "      <td>NotifyBoston</td>\n",
       "      <td>City of Boston</td>\n",
       "      <td>Looking good! Thank you. RT @courtwilliams92: ...</td>\n",
       "      <td>http://twitter.com/NotifyBoston/statuses/56015...</td>\n",
       "      <td>Boston, MA</td>\n",
       "      <td>01/27/2015 11:19:00 AM</td>\n",
       "      <td>Boston</td>\n",
       "      <td>MA</td>\n",
       "      <td>UNITED STATES</td>\n",
       "      <td>Boston-Cambridge-Quincy MA-NH</td>\n",
       "      <td>42.3733</td>\n",
       "      <td>-71.0155</td>\n",
       "      <td>2015</td>\n",
       "      <td>01</td>\n",
       "    </tr>\n",
       "    <tr>\n",
       "      <th>706</th>\n",
       "      <td>@notifyboston</td>\n",
       "      <td>drblalock</td>\n",
       "      <td>Hawkeye</td>\n",
       "      <td>@twright55 @NYC @NotifyBoston You too!</td>\n",
       "      <td>http://twitter.com/drblalock/statuses/55977243...</td>\n",
       "      <td>Eastern Virginia</td>\n",
       "      <td>01/26/2015 09:58:00 AM</td>\n",
       "      <td>NaN</td>\n",
       "      <td>VA</td>\n",
       "      <td>UNITED STATES</td>\n",
       "      <td>NaN</td>\n",
       "      <td>NaN</td>\n",
       "      <td>NaN</td>\n",
       "      <td>2015</td>\n",
       "      <td>01</td>\n",
       "    </tr>\n",
       "    <tr>\n",
       "      <th>871</th>\n",
       "      <td>@notifyboston</td>\n",
       "      <td>muchsmallfails</td>\n",
       "      <td>mw</td>\n",
       "      <td>@NotifyBoston @marty_walsh thank you DPW &amp; tha...</td>\n",
       "      <td>http://twitter.com/muchsmallfails/statuses/561...</td>\n",
       "      <td>NaN</td>\n",
       "      <td>01/30/2015 08:37:00 AM</td>\n",
       "      <td>NaN</td>\n",
       "      <td>NaN</td>\n",
       "      <td>NaN</td>\n",
       "      <td>NaN</td>\n",
       "      <td>NaN</td>\n",
       "      <td>NaN</td>\n",
       "      <td>2015</td>\n",
       "      <td>01</td>\n",
       "    </tr>\n",
       "    <tr>\n",
       "      <th>1015</th>\n",
       "      <td>@notifyboston</td>\n",
       "      <td>allcorgis</td>\n",
       "      <td>Allyson Baughman</td>\n",
       "      <td>@marty_walsh @NotifyBoston Thank you!</td>\n",
       "      <td>http://twitter.com/allcorgis/statuses/56703970...</td>\n",
       "      <td>NaN</td>\n",
       "      <td>02/15/2015 11:16:00 AM</td>\n",
       "      <td>NaN</td>\n",
       "      <td>NaN</td>\n",
       "      <td>NaN</td>\n",
       "      <td>NaN</td>\n",
       "      <td>NaN</td>\n",
       "      <td>NaN</td>\n",
       "      <td>2015</td>\n",
       "      <td>02</td>\n",
       "    </tr>\n",
       "  </tbody>\n",
       "</table>\n",
       "</div>"
      ],
      "text/plain": [
       "     Account Mentioned       User Name              Name  \\\n",
       "0        @notifyboston    NotifyBoston    City of Boston   \n",
       "1        @notifyboston    NotifyBoston    City of Boston   \n",
       "706      @notifyboston       drblalock           Hawkeye   \n",
       "871      @notifyboston  muchsmallfails                mw   \n",
       "1015     @notifyboston       allcorgis  Allyson Baughman   \n",
       "\n",
       "                                                 Update  \\\n",
       "0     Thanks! RT @WMcAuliffe13: Hydrants have sussec...   \n",
       "1     Looking good! Thank you. RT @courtwilliams92: ...   \n",
       "706              @twright55 @NYC @NotifyBoston You too!   \n",
       "871   @NotifyBoston @marty_walsh thank you DPW & tha...   \n",
       "1015              @marty_walsh @NotifyBoston Thank you!   \n",
       "\n",
       "                                                   Link          Location  \\\n",
       "0     http://twitter.com/NotifyBoston/statuses/56015...        Boston, MA   \n",
       "1     http://twitter.com/NotifyBoston/statuses/56015...        Boston, MA   \n",
       "706   http://twitter.com/drblalock/statuses/55977243...  Eastern Virginia   \n",
       "871   http://twitter.com/muchsmallfails/statuses/561...               NaN   \n",
       "1015  http://twitter.com/allcorgis/statuses/56703970...               NaN   \n",
       "\n",
       "                        Time    City State/region        Country  \\\n",
       "0     01/27/2015 11:04:00 AM  Boston           MA  UNITED STATES   \n",
       "1     01/27/2015 11:19:00 AM  Boston           MA  UNITED STATES   \n",
       "706   01/26/2015 09:58:00 AM     NaN           VA  UNITED STATES   \n",
       "871   01/30/2015 08:37:00 AM     NaN          NaN            NaN   \n",
       "1015  02/15/2015 11:16:00 AM     NaN          NaN            NaN   \n",
       "\n",
       "                              Metro  Latitude  Longitude  year month  \n",
       "0     Boston-Cambridge-Quincy MA-NH   42.3733   -71.0155  2015    01  \n",
       "1     Boston-Cambridge-Quincy MA-NH   42.3733   -71.0155  2015    01  \n",
       "706                             NaN       NaN        NaN  2015    01  \n",
       "871                             NaN       NaN        NaN  2015    01  \n",
       "1015                            NaN       NaN        NaN  2015    02  "
      ]
     },
     "execution_count": 8,
     "metadata": {},
     "output_type": "execute_result"
    }
   ],
   "source": [
    "year_2015.head()"
   ]
  },
  {
   "cell_type": "code",
   "execution_count": 9,
   "metadata": {
    "collapsed": false
   },
   "outputs": [
    {
     "data": {
      "text/plain": [
       "array(['01', '02', '03'], dtype=object)"
      ]
     },
     "execution_count": 9,
     "metadata": {},
     "output_type": "execute_result"
    }
   ],
   "source": [
    "year_2015.month.unique()"
   ]
  },
  {
   "cell_type": "code",
   "execution_count": 10,
   "metadata": {
    "collapsed": true
   },
   "outputs": [],
   "source": [
    "year_2015 = year_2015[(year_2015.month == '01') | (year_2015.month == '02')]"
   ]
  },
  {
   "cell_type": "markdown",
   "metadata": {},
   "source": [
    "## Random Forest: What differentiates tweets from Feb from Jan 2015? (Bigrams!)"
   ]
  },
  {
   "cell_type": "code",
   "execution_count": 11,
   "metadata": {
    "collapsed": false
   },
   "outputs": [],
   "source": [
    "year_2015['FEB'] = year_2015['month'].str.contains('02')"
   ]
  },
  {
   "cell_type": "code",
   "execution_count": 13,
   "metadata": {
    "collapsed": false
   },
   "outputs": [
    {
     "name": "stdout",
     "output_type": "stream",
     "text": [
      "CV AUC [ 0.86959564  0.94081793  0.66511658], Average AUC 0.825176716277\n"
     ]
    }
   ],
   "source": [
    "texts = year_2015['Update'].fillna('')\n",
    "\n",
    "vectorizer = CountVectorizer(max_features = 1000,\n",
    "                             ngram_range=[2, 2], \n",
    "                             stop_words='english',\n",
    "                             binary=False)\n",
    "\n",
    "model = RandomForestClassifier(n_estimators = 50)\n",
    "\n",
    "# Use `fit` to learn the vocabulary of the review text\n",
    "vectorizer.fit(texts)\n",
    "\n",
    "# Use `tranform` to generate the sample X word matrix - \n",
    "# one column per feature (word or n-grams)\n",
    "X = vectorizer.transform(texts).todense()\n",
    "y = year_2015['FEB']\n",
    "\n",
    "scores = cross_val_score(model, X, y, scoring='roc_auc')\n",
    "print('CV AUC {}, Average AUC {}'.format(scores, scores.mean()))"
   ]
  },
  {
   "cell_type": "code",
   "execution_count": 14,
   "metadata": {
    "collapsed": false
   },
   "outputs": [
    {
     "name": "stdout",
     "output_type": "stream",
     "text": [
      "                      Features  Importance Score\n",
      "797                  snow home          0.030735\n",
      "202           cityofboston gov          0.025200\n",
      "348                   gov snow          0.023675\n",
      "895                tomorrow 29          0.016412\n",
      "21                   29 bosnow          0.015397\n",
      "359                   home asp          0.014437\n",
      "385                  http park          0.013462\n",
      "59             911 emergencies          0.013323\n",
      "799                  snow http          0.012733\n",
      "743            rt notifyboston          0.012625\n",
      "379          http cityofboston          0.012391\n",
      "391                   http www          0.012160\n",
      "645                park boston          0.009691\n",
      "556        notifyboston boston          0.007399\n",
      "663                pay parking          0.006980\n",
      "603          notifyboston snow          0.006979\n",
      "807               snow related          0.006635\n",
      "138                bosnow http          0.006290\n",
      "314             expected later          0.006220\n",
      "808               snow removal          0.006210\n",
      "114           bcyfcenters open          0.005996\n",
      "573          notifyboston http          0.005874\n",
      "810                 snow storm          0.005612\n",
      "296         emergencies bosnow          0.005574\n",
      "612      notifyboston tomorrow          0.005544\n",
      "175               cancelled 27          0.005173\n",
      "56      892807736721548 signup          0.005161\n",
      "947  universalhub notifyboston          0.005081\n",
      "992           www cityofboston          0.004910\n",
      "969             walking street          0.004767\n",
      "233           com notifyboston          0.004731\n",
      "650                parking ban          0.004593\n",
      "793                snow bosnow          0.004576\n",
      "310             everbridge net          0.004542\n",
      "198                city boston          0.004450\n",
      "759               schools open          0.004384\n",
      "250     conditions bcyfcenters          0.004334\n",
      "417      index 892807736721548          0.004314\n",
      "607        notifyboston status          0.004300\n",
      "318            extreme weather          0.004270\n",
      "673                 pipes snow          0.004197\n",
      "854              streets clear          0.004183\n",
      "821                space saver          0.004175\n",
      "478   marty_walsh notifyboston          0.004148\n",
      "608          notifyboston stay          0.004118\n",
      "383                    http ow          0.004059\n",
      "454                   ly hyrfy          0.003993\n",
      "533           neighbors bosnow          0.003927\n",
      "795             snow emergency          0.003884\n",
      "212            closed tomorrow          0.003774\n"
     ]
    }
   ],
   "source": [
    "model.fit(X, y)\n",
    "feature_importances = pd.DataFrame({'Features' : vectorizer.get_feature_names(), \n",
    "                                    'Importance Score': model.feature_importances_})\n",
    "print feature_importances.sort_values('Importance Score', ascending=False).head(50)"
   ]
  },
  {
   "cell_type": "markdown",
   "metadata": {},
   "source": [
    "## How about trigrams?"
   ]
  },
  {
   "cell_type": "code",
   "execution_count": 15,
   "metadata": {
    "collapsed": false
   },
   "outputs": [
    {
     "name": "stdout",
     "output_type": "stream",
     "text": [
      "CV AUC [ 0.85330684  0.91212291  0.64004568], Average AUC 0.801825142804\n"
     ]
    }
   ],
   "source": [
    "vectorizer = CountVectorizer(max_features = 1000,\n",
    "                             ngram_range=[3, 3], \n",
    "                             stop_words='english',\n",
    "                             binary=False)\n",
    "\n",
    "# Use `fit` to learn the vocabulary of the review text\n",
    "vectorizer.fit(texts)\n",
    "\n",
    "# Use `tranform` to generate the sample X word matrix - \n",
    "# one column per feature (word or n-grams)\n",
    "X = vectorizer.transform(texts).todense()\n",
    "y = year_2015['FEB']\n",
    "\n",
    "scores = cross_val_score(model, X, y, scoring='roc_auc')\n",
    "print('CV AUC {}, Average AUC {}'.format(scores, scores.mean()))"
   ]
  },
  {
   "cell_type": "code",
   "execution_count": 16,
   "metadata": {
    "collapsed": false
   },
   "outputs": [
    {
     "name": "stdout",
     "output_type": "stream",
     "text": [
      "                            Features  Importance Score\n",
      "313                    gov snow home          0.038456\n",
      "815                    snow home asp          0.029605\n",
      "186            cityofboston gov snow          0.025428\n",
      "353                 http park boston          0.019254\n",
      "348            http cityofboston gov          0.018239\n",
      "314                    gov snow http          0.017595\n",
      "19                   29 bosnow alert          0.017436\n",
      "993             www cityofboston gov          0.017283\n",
      "614                  park boston gov          0.013670\n",
      "195               closed tomorrow 29          0.012663\n",
      "713           rt notifyboston boston          0.011995\n",
      "329         homeless 911 emergencies          0.011100\n",
      "716             rt notifyboston city          0.010939\n",
      "362            http www cityofboston          0.010705\n",
      "893               tomorrow 29 bosnow          0.009490\n",
      "818                    snow http www          0.008049\n",
      "755         rt notifyboston tomorrow          0.008036\n",
      "945         twitter com notifyboston          0.007895\n",
      "213          com notifyboston status          0.007620\n",
      "749             rt notifyboston snow          0.007107\n",
      "351                       http ow ly          0.006910\n",
      "282       extreme weather conditions          0.006628\n",
      "120                  bosnow http pic          0.006586\n",
      "981   weather conditions bcyfcenters          0.006242\n",
      "312                  gov snow bosnow          0.005830\n",
      "140     boston school superintendent          0.005655\n",
      "757            rt notifyboston trash          0.005581\n",
      "43            911 emergencies bosnow          0.005570\n",
      "661              public schools open          0.005546\n",
      "753             rt notifyboston stay          0.005533\n",
      "164        carbon monoxide poisoning          0.005411\n",
      "425                    ly hyrfy http          0.005266\n",
      "308                 gov news default          0.005251\n",
      "364          https member everbridge          0.005229\n",
      "57                 alert weather bos          0.004895\n",
      "470            member everbridge net          0.004883\n",
      "110                  bit ly selmabos          0.004801\n",
      "941             twitter com a24films          0.004720\n",
      "620               parking ban effect          0.004686\n",
      "551        notifyboston public works          0.004589\n",
      "223      conditions bcyfcenters open          0.004586\n",
      "584    notifyboston trash collection          0.004583\n",
      "500        net index 892807736721548          0.004544\n",
      "97               bcyfcenters open 30          0.004383\n",
      "144   bostonpublicschools org domain          0.004267\n",
      "382           idling deadly tailpipe          0.004265\n",
      "183            cityofboston gov news          0.004257\n",
      "187  cityofboston gov stateofthecity          0.004214\n",
      "887           tips http cityofboston          0.004199\n",
      "267            emergency parking ban          0.004156\n"
     ]
    }
   ],
   "source": [
    "model.fit(X, y)\n",
    "feature_importances = pd.DataFrame({'Features' : vectorizer.get_feature_names(), \n",
    "                                    'Importance Score': model.feature_importances_})\n",
    "print feature_importances.sort_values('Importance Score', ascending=False).head(50)"
   ]
  },
  {
   "cell_type": "code",
   "execution_count": null,
   "metadata": {
    "collapsed": true
   },
   "outputs": [],
   "source": []
  }
 ],
 "metadata": {
  "kernelspec": {
   "display_name": "Python 2",
   "language": "python",
   "name": "python2"
  },
  "language_info": {
   "codemirror_mode": {
    "name": "ipython",
    "version": 2
   },
   "file_extension": ".py",
   "mimetype": "text/x-python",
   "name": "python",
   "nbconvert_exporter": "python",
   "pygments_lexer": "ipython2",
   "version": "2.7.12"
  }
 },
 "nbformat": 4,
 "nbformat_minor": 1
}
